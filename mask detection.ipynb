{
 "cells": [
  {
   "cell_type": "markdown",
   "metadata": {},
   "source": [
    "<a href='https://www.hexnbit.com/'> <img src='https://www.hexnbit.com/wp-content/uploads/2019/09/hexnbit_final_66px.png'/> </a>"
   ]
  },
  {
   "cell_type": "markdown",
   "metadata": {},
   "source": [
    "# Task 1:\n",
    "1. Using OpenCV functions, open the webcam / USB camera device and play a live stream\n",
    "2. Video stream must stop when \"x\" key is pressed<br>\n",
    "**Hint-** Refer Section 41 from the content"
   ]
  },
  {
   "cell_type": "code",
   "execution_count": 1,
   "metadata": {},
   "outputs": [],
   "source": [
    "import cv2\n",
    "import numpy\n"
   ]
  },
  {
   "cell_type": "code",
   "execution_count": 3,
   "metadata": {},
   "outputs": [],
   "source": [
    "capture=cv2.VideoCapture(0)\n",
    "while(1):\n",
    "    ret,frame=capture.read()\n",
    "    cv2.imshow(\"Live Stream\",frame)\n",
    "    if cv2.waitKey(2) & 0xFF==ord('x'):\n",
    "        break\n",
    "cv2.destroyAllWindows()\n",
    "capture.release()"
   ]
  },
  {
   "cell_type": "markdown",
   "metadata": {},
   "source": [
    "# Task 2:\n",
    "1. Add another window which displays grayscale feed<br>\n",
    "**Hint-** Refer Section 47 from the content"
   ]
  },
  {
   "cell_type": "code",
   "execution_count": 5,
   "metadata": {},
   "outputs": [],
   "source": [
    "capture=cv2.VideoCapture(0)\n",
    "while(1):\n",
    "    ret,frame=capture.read()\n",
    "    cv2.imshow(\"Live Stream\",frame)\n",
    "    gray_scale=cv2.cvtColor(frame,cv2.COLOR_BGR2GRAY)\n",
    "    cv2.imshow(\"gray scale\",gray_scale)\n",
    "    if cv2.waitKey(2) & 0xFF==ord('x'):\n",
    "        break\n",
    "cv2.destroyAllWindows()\n",
    "capture.release()"
   ]
  },
  {
   "cell_type": "markdown",
   "metadata": {},
   "source": [
    "# Task 3:\n",
    "1. In the live camera feed, using the Haar Cascade Files, detect following:-\n",
    "    - Face (Enclosed with Yellow Rectangle)\n",
    "    - Nose (Enclosed with Blue Rectangle)\n",
    "    - Eyes (Enclosed with Green Rectangle)\n",
    "    - Smile (Enclosed with Red Rectangle)<br>\n",
    "**Hint-** Refer Section 50"
   ]
  },
  {
   "cell_type": "code",
   "execution_count": 14,
   "metadata": {},
   "outputs": [],
   "source": [
    "face_detector=cv2.CascadeClassifier(\"haarcascade_frontalface_default.xml\")\n",
    "eye_detector=cv2.CascadeClassifier(\"haarcascade_eye.xml\")\n",
    "smile_detector=cv2.CascadeClassifier(\"haarcascade_smile.xml\")\n",
    "nose_detector=cv2.CascadeClassifier(\"haarcascade_nose.xml\")\n",
    "capture=cv2.VideoCapture(0)\n",
    "while(1):\n",
    "    ret,frame=capture.read()\n",
    "    cv2.imshow(\"Live Stream\",frame)\n",
    "    faces=face_detector.detectMultiScale(frame)\n",
    "    gray_scale=cv2.cvtColor(frame,cv2.COLOR_BGR2GRAY)\n",
    "    for x,y,w,h in faces:\n",
    "        img=cv2.rectangle(frame,(x,y),(x+w,y+h),(0,255,255))\n",
    "        noses=nose_detector.detectMultiScale(gray_scale)\n",
    "        for nx,ny,nw,nh in noses:\n",
    "                img=cv2.rectangle(img,(nx,ny),(nx+nw,ny+nh),(255,0,0))\n",
    "        eyes=eye_detector.detectMultiScale(gray_scale)\n",
    "        for ex,ey,ew,eh in eyes:\n",
    "            img=cv2.rectangle(img,(ex,ey),(ex+ew,ey+eh),(0,255,0))\n",
    "        smile=smile_detector.detectMultiScale(gray_scale)\n",
    "        for sx,sy,sw,sh in smile:\n",
    "            img=cv2.rectangle(img,(sx,sy),(sx+sw,sy+sh),(0,0,255))\n",
    "    cv2.imshow(\"Final\",img)\n",
    "   \n",
    "    if cv2.waitKey(2) & 0xFF==ord('x'):\n",
    "        break\n",
    "cv2.destroyAllWindows()\n",
    "capture.release()"
   ]
  },
  {
   "cell_type": "markdown",
   "metadata": {},
   "source": [
    "# Task 4:\n",
    "1. Based on the Facial Features detected in live feed, try to form a logic which may be used to detect if the person is wearing mask or not<br>\n",
    "**Hint:** What are the facial features not visible when a person is wearing a mask?\n",
    "\n",
    "2. If mask is worn write \"Wearing Mask\" on top of face rectangle using Green Colour\n",
    "3. Else write \"No Mask\" on top of face rectangle using Red Colour<br>\n",
    "**Hint:** Look at the picture attached below / in the references of this download,Consider that only one face is detected in the live feed<br>"
   ]
  },
  {
   "cell_type": "markdown",
   "metadata": {},
   "source": [
    "The algorithm may not be 100% accurate and will depend on lighting conditions / camera placement etc. but try to calibrate the parameters of \"detectMultiScale\" function<br>\n",
    "Press Shift+Tab on the function to check all possible parameters"
   ]
  },
  {
   "cell_type": "markdown",
   "metadata": {},
   "source": [
    "<img src='mask_detection.jpg'/> </a>"
   ]
  },
  {
   "cell_type": "code",
   "execution_count": 34,
   "metadata": {},
   "outputs": [],
   "source": [
    "face_detector=cv2.CascadeClassifier(\"haarcascade_frontalface_default.xml\")\n",
    "eye_detector=cv2.CascadeClassifier(\"haarcascade_eye.xml\")\n",
    "smile_detector=cv2.CascadeClassifier(\"haarcascade_smile.xml\")\n",
    "nose_detector=cv2.CascadeClassifier(\"haarcascade_nose.xml\")\n",
    "capture=cv2.VideoCapture(0)\n",
    "while(1):\n",
    "    ret,frame=capture.read()\n",
    "    cv2.imshow(\"Live Stream\",frame)\n",
    "    faces=face_detector.detectMultiScale(frame)\n",
    "    gray_scale=cv2.cvtColor(frame,cv2.COLOR_BGR2GRAY)\n",
    "    for x,y,w,h in faces:\n",
    "        img=cv2.rectangle(frame,(x,y),(x+w,y+h),(0,255,255))\n",
    "        noses=nose_detector.detectMultiScale(gray_scale)\n",
    "        for nx,ny,nw,nh in noses:\n",
    "            img=cv2.rectangle(img,(nx,ny),(nx+nw,ny+nh),(255,0,0))\n",
    "        if len(noses)!=0:\n",
    "            img=cv2.putText(img,\" not Wearing Mask\",(int(x),int(y-10)),cv2.FONT_HERSHEY_SIMPLEX,2,(100,100,100),2,cv2.LINE_AA)\n",
    "        else:\n",
    "            img=cv2.putText(img,\"Wearing Mask\",(int(x),int(y-10)),cv2.FONT_HERSHEY_SIMPLEX,1,(100,100,100),2,cv2.LINE_AA)\n",
    "\n",
    "        eyes=eye_detector.detectMultiScale(gray_scale)\n",
    "        for ex,ey,ew,eh in eyes:\n",
    "            img=cv2.rectangle(img,(ex,ey),(ex+ew,ey+eh),(0,255,0))\n",
    "        smile=smile_detector.detectMultiScale(gray_scale)\n",
    "        for sx,sy,sw,sh in smile:\n",
    "            img=cv2.rectangle(img,(sx,sy),(sx+sw,sy+sh),(0,0,255))\n",
    "    cv2.imshow(\"Final\",img)\n",
    "   \n",
    "    if cv2.waitKey(2) & 0xFF==ord('x'):\n",
    "        break\n",
    "cv2.destroyAllWindows()\n",
    "capture.release()"
   ]
  },
  {
   "cell_type": "code",
   "execution_count": null,
   "metadata": {},
   "outputs": [],
   "source": []
  },
  {
   "cell_type": "code",
   "execution_count": null,
   "metadata": {},
   "outputs": [],
   "source": []
  }
 ],
 "metadata": {
  "kernelspec": {
   "display_name": "Python 3",
   "language": "python",
   "name": "python3"
  },
  "language_info": {
   "codemirror_mode": {
    "name": "ipython",
    "version": 3
   },
   "file_extension": ".py",
   "mimetype": "text/x-python",
   "name": "python",
   "nbconvert_exporter": "python",
   "pygments_lexer": "ipython3",
   "version": "3.7.6"
  }
 },
 "nbformat": 4,
 "nbformat_minor": 4
}
